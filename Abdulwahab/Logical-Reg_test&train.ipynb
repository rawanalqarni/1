{
 "cells": [
  {
   "cell_type": "code",
   "execution_count": 1,
   "metadata": {},
   "outputs": [],
   "source": [
    "\n",
    "\n",
    "import pandas as pd\n",
    "import numpy as np\n",
    "import matplotlib.pyplot as plt\n",
    "import seaborn as sns\n",
    "%matplotlib inline\n",
    "\n"
   ]
  },
  {
   "cell_type": "markdown",
   "metadata": {},
   "source": [
    "Load the test data set:"
   ]
  },
  {
   "cell_type": "code",
   "execution_count": 2,
   "metadata": {},
   "outputs": [],
   "source": [
    "testDS = pd.read_csv(\"../data/music_dataset_test.csv\")\n",
    "trainDS = pd.read_csv(\"../data/music_dataset_train.csv\")"
   ]
  },
  {
   "cell_type": "code",
   "execution_count": 3,
   "metadata": {},
   "outputs": [
    {
     "name": "stdout",
     "output_type": "stream",
     "text": [
      "<class 'pandas.core.frame.DataFrame'>\n",
      "RangeIndex: 5399 entries, 0 to 5398\n",
      "Data columns (total 19 columns):\n",
      " #   Column              Non-Null Count  Dtype  \n",
      "---  ------              --------------  -----  \n",
      " 0   Unnamed: 0.1        5399 non-null   int64  \n",
      " 1   Unnamed: 0          5399 non-null   int64  \n",
      " 2   Artist Name         5399 non-null   object \n",
      " 3   Track Name          5399 non-null   object \n",
      " 4   Popularity          5399 non-null   float64\n",
      " 5   danceability        5399 non-null   float64\n",
      " 6   energy              5399 non-null   float64\n",
      " 7   key                 5399 non-null   float64\n",
      " 8   loudness            5399 non-null   float64\n",
      " 9   mode                5399 non-null   int64  \n",
      " 10  speechiness         5399 non-null   float64\n",
      " 11  acousticness        5399 non-null   float64\n",
      " 12  instrumentalness    5399 non-null   float64\n",
      " 13  liveness            5399 non-null   float64\n",
      " 14  valence             5399 non-null   float64\n",
      " 15  tempo               5399 non-null   float64\n",
      " 16  duration_in min/ms  5399 non-null   float64\n",
      " 17  time_signature      5399 non-null   int64  \n",
      " 18  Class               5399 non-null   int64  \n",
      "dtypes: float64(12), int64(5), object(2)\n",
      "memory usage: 801.5+ KB\n"
     ]
    }
   ],
   "source": [
    "testDS.info()"
   ]
  },
  {
   "cell_type": "code",
   "execution_count": 4,
   "metadata": {},
   "outputs": [
    {
     "name": "stdout",
     "output_type": "stream",
     "text": [
      "<class 'pandas.core.frame.DataFrame'>\n",
      "RangeIndex: 12597 entries, 0 to 12596\n",
      "Data columns (total 19 columns):\n",
      " #   Column              Non-Null Count  Dtype  \n",
      "---  ------              --------------  -----  \n",
      " 0   Unnamed: 0.1        12597 non-null  int64  \n",
      " 1   Unnamed: 0          12597 non-null  int64  \n",
      " 2   Artist Name         12597 non-null  object \n",
      " 3   Track Name          12597 non-null  object \n",
      " 4   Popularity          12597 non-null  float64\n",
      " 5   danceability        12597 non-null  float64\n",
      " 6   energy              12597 non-null  float64\n",
      " 7   key                 12597 non-null  float64\n",
      " 8   loudness            12597 non-null  float64\n",
      " 9   mode                12597 non-null  int64  \n",
      " 10  speechiness         12597 non-null  float64\n",
      " 11  acousticness        12597 non-null  float64\n",
      " 12  instrumentalness    12597 non-null  float64\n",
      " 13  liveness            12597 non-null  float64\n",
      " 14  valence             12597 non-null  float64\n",
      " 15  tempo               12597 non-null  float64\n",
      " 16  duration_in min/ms  12597 non-null  float64\n",
      " 17  time_signature      12597 non-null  int64  \n",
      " 18  Class               12597 non-null  int64  \n",
      "dtypes: float64(12), int64(5), object(2)\n",
      "memory usage: 1.8+ MB\n"
     ]
    }
   ],
   "source": [
    "trainDS.info()"
   ]
  },
  {
   "cell_type": "markdown",
   "metadata": {},
   "source": [
    "Converting the class to string:"
   ]
  },
  {
   "cell_type": "code",
   "execution_count": 5,
   "metadata": {},
   "outputs": [],
   "source": [
    "\n",
    "testDS.Class = testDS.Class.astype(str)\n",
    "trainDS.Class = trainDS.Class.astype(str)"
   ]
  },
  {
   "cell_type": "code",
   "execution_count": 6,
   "metadata": {},
   "outputs": [
    {
     "data": {
      "text/html": [
       "<div>\n",
       "<style scoped>\n",
       "    .dataframe tbody tr th:only-of-type {\n",
       "        vertical-align: middle;\n",
       "    }\n",
       "\n",
       "    .dataframe tbody tr th {\n",
       "        vertical-align: top;\n",
       "    }\n",
       "\n",
       "    .dataframe thead th {\n",
       "        text-align: right;\n",
       "    }\n",
       "</style>\n",
       "<table border=\"1\" class=\"dataframe\">\n",
       "  <thead>\n",
       "    <tr style=\"text-align: right;\">\n",
       "      <th></th>\n",
       "      <th>Unnamed: 0.1</th>\n",
       "      <th>Unnamed: 0</th>\n",
       "      <th>Artist Name</th>\n",
       "      <th>Track Name</th>\n",
       "      <th>Popularity</th>\n",
       "      <th>danceability</th>\n",
       "      <th>energy</th>\n",
       "      <th>key</th>\n",
       "      <th>loudness</th>\n",
       "      <th>mode</th>\n",
       "      <th>speechiness</th>\n",
       "      <th>acousticness</th>\n",
       "      <th>instrumentalness</th>\n",
       "      <th>liveness</th>\n",
       "      <th>valence</th>\n",
       "      <th>tempo</th>\n",
       "      <th>duration_in min/ms</th>\n",
       "      <th>time_signature</th>\n",
       "      <th>Class</th>\n",
       "    </tr>\n",
       "  </thead>\n",
       "  <tbody>\n",
       "    <tr>\n",
       "      <th>0</th>\n",
       "      <td>7953</td>\n",
       "      <td>7953</td>\n",
       "      <td>Rodney Atkins</td>\n",
       "      <td>Watching You</td>\n",
       "      <td>68.0</td>\n",
       "      <td>0.625</td>\n",
       "      <td>0.848</td>\n",
       "      <td>2.0</td>\n",
       "      <td>-4.008</td>\n",
       "      <td>1</td>\n",
       "      <td>0.0314</td>\n",
       "      <td>0.105000</td>\n",
       "      <td>0.177562</td>\n",
       "      <td>0.2300</td>\n",
       "      <td>0.716</td>\n",
       "      <td>137.993</td>\n",
       "      <td>3.923783</td>\n",
       "      <td>4</td>\n",
       "      <td>4</td>\n",
       "    </tr>\n",
       "    <tr>\n",
       "      <th>1</th>\n",
       "      <td>11302</td>\n",
       "      <td>11302</td>\n",
       "      <td>Defocus</td>\n",
       "      <td>Diverge</td>\n",
       "      <td>32.0</td>\n",
       "      <td>0.438</td>\n",
       "      <td>0.992</td>\n",
       "      <td>1.0</td>\n",
       "      <td>-3.754</td>\n",
       "      <td>1</td>\n",
       "      <td>0.1350</td>\n",
       "      <td>0.000103</td>\n",
       "      <td>0.000002</td>\n",
       "      <td>0.4410</td>\n",
       "      <td>0.129</td>\n",
       "      <td>104.953</td>\n",
       "      <td>197040.000000</td>\n",
       "      <td>4</td>\n",
       "      <td>8</td>\n",
       "    </tr>\n",
       "    <tr>\n",
       "      <th>2</th>\n",
       "      <td>17034</td>\n",
       "      <td>17034</td>\n",
       "      <td>Pablo Briceño</td>\n",
       "      <td>Preludio del valle</td>\n",
       "      <td>43.0</td>\n",
       "      <td>0.384</td>\n",
       "      <td>0.185</td>\n",
       "      <td>9.0</td>\n",
       "      <td>-14.269</td>\n",
       "      <td>0</td>\n",
       "      <td>0.0774</td>\n",
       "      <td>0.991000</td>\n",
       "      <td>0.844000</td>\n",
       "      <td>0.0931</td>\n",
       "      <td>0.150</td>\n",
       "      <td>149.834</td>\n",
       "      <td>2.526950</td>\n",
       "      <td>3</td>\n",
       "      <td>7</td>\n",
       "    </tr>\n",
       "    <tr>\n",
       "      <th>3</th>\n",
       "      <td>17832</td>\n",
       "      <td>17832</td>\n",
       "      <td>Blind Melon</td>\n",
       "      <td>No Rain</td>\n",
       "      <td>75.0</td>\n",
       "      <td>0.389</td>\n",
       "      <td>0.476</td>\n",
       "      <td>9.0</td>\n",
       "      <td>-9.342</td>\n",
       "      <td>1</td>\n",
       "      <td>0.0316</td>\n",
       "      <td>0.619000</td>\n",
       "      <td>0.000051</td>\n",
       "      <td>0.2550</td>\n",
       "      <td>0.566</td>\n",
       "      <td>148.117</td>\n",
       "      <td>217107.000000</td>\n",
       "      <td>4</td>\n",
       "      <td>6</td>\n",
       "    </tr>\n",
       "    <tr>\n",
       "      <th>4</th>\n",
       "      <td>7468</td>\n",
       "      <td>7468</td>\n",
       "      <td>Tesher</td>\n",
       "      <td>Jalebi Baby</td>\n",
       "      <td>78.0</td>\n",
       "      <td>0.680</td>\n",
       "      <td>0.895</td>\n",
       "      <td>2.0</td>\n",
       "      <td>-7.144</td>\n",
       "      <td>1</td>\n",
       "      <td>0.0378</td>\n",
       "      <td>0.015600</td>\n",
       "      <td>0.000374</td>\n",
       "      <td>0.1450</td>\n",
       "      <td>0.824</td>\n",
       "      <td>93.037</td>\n",
       "      <td>3.156250</td>\n",
       "      <td>4</td>\n",
       "      <td>9</td>\n",
       "    </tr>\n",
       "  </tbody>\n",
       "</table>\n",
       "</div>"
      ],
      "text/plain": [
       "   Unnamed: 0.1  Unnamed: 0    Artist Name          Track Name  Popularity  \\\n",
       "0          7953        7953  Rodney Atkins        Watching You        68.0   \n",
       "1         11302       11302        Defocus             Diverge        32.0   \n",
       "2         17034       17034  Pablo Briceño  Preludio del valle        43.0   \n",
       "3         17832       17832    Blind Melon             No Rain        75.0   \n",
       "4          7468        7468         Tesher         Jalebi Baby        78.0   \n",
       "\n",
       "   danceability  energy  key  loudness  mode  speechiness  acousticness  \\\n",
       "0         0.625   0.848  2.0    -4.008     1       0.0314      0.105000   \n",
       "1         0.438   0.992  1.0    -3.754     1       0.1350      0.000103   \n",
       "2         0.384   0.185  9.0   -14.269     0       0.0774      0.991000   \n",
       "3         0.389   0.476  9.0    -9.342     1       0.0316      0.619000   \n",
       "4         0.680   0.895  2.0    -7.144     1       0.0378      0.015600   \n",
       "\n",
       "   instrumentalness  liveness  valence    tempo  duration_in min/ms  \\\n",
       "0          0.177562    0.2300    0.716  137.993            3.923783   \n",
       "1          0.000002    0.4410    0.129  104.953       197040.000000   \n",
       "2          0.844000    0.0931    0.150  149.834            2.526950   \n",
       "3          0.000051    0.2550    0.566  148.117       217107.000000   \n",
       "4          0.000374    0.1450    0.824   93.037            3.156250   \n",
       "\n",
       "   time_signature Class  \n",
       "0               4     4  \n",
       "1               4     8  \n",
       "2               3     7  \n",
       "3               4     6  \n",
       "4               4     9  "
      ]
     },
     "execution_count": 6,
     "metadata": {},
     "output_type": "execute_result"
    }
   ],
   "source": [
    "trainDS.head()"
   ]
  },
  {
   "cell_type": "code",
   "execution_count": 7,
   "metadata": {},
   "outputs": [
    {
     "data": {
      "text/html": [
       "<div>\n",
       "<style scoped>\n",
       "    .dataframe tbody tr th:only-of-type {\n",
       "        vertical-align: middle;\n",
       "    }\n",
       "\n",
       "    .dataframe tbody tr th {\n",
       "        vertical-align: top;\n",
       "    }\n",
       "\n",
       "    .dataframe thead th {\n",
       "        text-align: right;\n",
       "    }\n",
       "</style>\n",
       "<table border=\"1\" class=\"dataframe\">\n",
       "  <thead>\n",
       "    <tr style=\"text-align: right;\">\n",
       "      <th></th>\n",
       "      <th>Unnamed: 0.1</th>\n",
       "      <th>Unnamed: 0</th>\n",
       "      <th>Artist Name</th>\n",
       "      <th>Track Name</th>\n",
       "      <th>Popularity</th>\n",
       "      <th>danceability</th>\n",
       "      <th>energy</th>\n",
       "      <th>key</th>\n",
       "      <th>loudness</th>\n",
       "      <th>mode</th>\n",
       "      <th>speechiness</th>\n",
       "      <th>acousticness</th>\n",
       "      <th>instrumentalness</th>\n",
       "      <th>liveness</th>\n",
       "      <th>valence</th>\n",
       "      <th>tempo</th>\n",
       "      <th>duration_in min/ms</th>\n",
       "      <th>time_signature</th>\n",
       "      <th>Class</th>\n",
       "    </tr>\n",
       "  </thead>\n",
       "  <tbody>\n",
       "    <tr>\n",
       "      <th>0</th>\n",
       "      <td>17738</td>\n",
       "      <td>17738</td>\n",
       "      <td>Los Coast</td>\n",
       "      <td>A Change Is Gonna Come</td>\n",
       "      <td>45.0</td>\n",
       "      <td>0.354</td>\n",
       "      <td>0.523</td>\n",
       "      <td>10.0</td>\n",
       "      <td>-5.938</td>\n",
       "      <td>1</td>\n",
       "      <td>0.0269</td>\n",
       "      <td>0.514000</td>\n",
       "      <td>0.000027</td>\n",
       "      <td>0.1390</td>\n",
       "      <td>0.179</td>\n",
       "      <td>176.688</td>\n",
       "      <td>203616.0</td>\n",
       "      <td>3</td>\n",
       "      <td>2</td>\n",
       "    </tr>\n",
       "    <tr>\n",
       "      <th>1</th>\n",
       "      <td>9861</td>\n",
       "      <td>9861</td>\n",
       "      <td>Rendez Vous</td>\n",
       "      <td>Sentimental Animal</td>\n",
       "      <td>39.0</td>\n",
       "      <td>0.467</td>\n",
       "      <td>0.769</td>\n",
       "      <td>2.0</td>\n",
       "      <td>-5.059</td>\n",
       "      <td>1</td>\n",
       "      <td>0.0393</td>\n",
       "      <td>0.000039</td>\n",
       "      <td>0.572000</td>\n",
       "      <td>0.3200</td>\n",
       "      <td>0.607</td>\n",
       "      <td>155.957</td>\n",
       "      <td>275391.0</td>\n",
       "      <td>4</td>\n",
       "      <td>1</td>\n",
       "    </tr>\n",
       "    <tr>\n",
       "      <th>2</th>\n",
       "      <td>6295</td>\n",
       "      <td>6295</td>\n",
       "      <td>Tim Hardin</td>\n",
       "      <td>How Can We Hang On to a Dream - Live at Woodst...</td>\n",
       "      <td>26.0</td>\n",
       "      <td>0.449</td>\n",
       "      <td>0.246</td>\n",
       "      <td>7.0</td>\n",
       "      <td>-14.743</td>\n",
       "      <td>0</td>\n",
       "      <td>0.0392</td>\n",
       "      <td>0.944000</td>\n",
       "      <td>0.000240</td>\n",
       "      <td>0.4170</td>\n",
       "      <td>0.226</td>\n",
       "      <td>110.614</td>\n",
       "      <td>269000.0</td>\n",
       "      <td>3</td>\n",
       "      <td>10</td>\n",
       "    </tr>\n",
       "    <tr>\n",
       "      <th>3</th>\n",
       "      <td>9903</td>\n",
       "      <td>9903</td>\n",
       "      <td>iRO</td>\n",
       "      <td>Change Your Mind</td>\n",
       "      <td>36.0</td>\n",
       "      <td>0.531</td>\n",
       "      <td>0.772</td>\n",
       "      <td>9.0</td>\n",
       "      <td>-4.126</td>\n",
       "      <td>1</td>\n",
       "      <td>0.0446</td>\n",
       "      <td>0.054100</td>\n",
       "      <td>0.006930</td>\n",
       "      <td>0.0827</td>\n",
       "      <td>0.842</td>\n",
       "      <td>175.022</td>\n",
       "      <td>180273.0</td>\n",
       "      <td>4</td>\n",
       "      <td>9</td>\n",
       "    </tr>\n",
       "    <tr>\n",
       "      <th>4</th>\n",
       "      <td>10746</td>\n",
       "      <td>10746</td>\n",
       "      <td>girl in red</td>\n",
       "      <td>Serotonin</td>\n",
       "      <td>77.0</td>\n",
       "      <td>0.580</td>\n",
       "      <td>0.788</td>\n",
       "      <td>2.0</td>\n",
       "      <td>-4.714</td>\n",
       "      <td>1</td>\n",
       "      <td>0.2590</td>\n",
       "      <td>0.012300</td>\n",
       "      <td>0.000018</td>\n",
       "      <td>0.3680</td>\n",
       "      <td>0.720</td>\n",
       "      <td>148.992</td>\n",
       "      <td>182426.0</td>\n",
       "      <td>4</td>\n",
       "      <td>10</td>\n",
       "    </tr>\n",
       "  </tbody>\n",
       "</table>\n",
       "</div>"
      ],
      "text/plain": [
       "   Unnamed: 0.1  Unnamed: 0  Artist Name  \\\n",
       "0         17738       17738    Los Coast   \n",
       "1          9861        9861  Rendez Vous   \n",
       "2          6295        6295   Tim Hardin   \n",
       "3          9903        9903          iRO   \n",
       "4         10746       10746  girl in red   \n",
       "\n",
       "                                          Track Name  Popularity  \\\n",
       "0                             A Change Is Gonna Come        45.0   \n",
       "1                                 Sentimental Animal        39.0   \n",
       "2  How Can We Hang On to a Dream - Live at Woodst...        26.0   \n",
       "3                                   Change Your Mind        36.0   \n",
       "4                                          Serotonin        77.0   \n",
       "\n",
       "   danceability  energy   key  loudness  mode  speechiness  acousticness  \\\n",
       "0         0.354   0.523  10.0    -5.938     1       0.0269      0.514000   \n",
       "1         0.467   0.769   2.0    -5.059     1       0.0393      0.000039   \n",
       "2         0.449   0.246   7.0   -14.743     0       0.0392      0.944000   \n",
       "3         0.531   0.772   9.0    -4.126     1       0.0446      0.054100   \n",
       "4         0.580   0.788   2.0    -4.714     1       0.2590      0.012300   \n",
       "\n",
       "   instrumentalness  liveness  valence    tempo  duration_in min/ms  \\\n",
       "0          0.000027    0.1390    0.179  176.688            203616.0   \n",
       "1          0.572000    0.3200    0.607  155.957            275391.0   \n",
       "2          0.000240    0.4170    0.226  110.614            269000.0   \n",
       "3          0.006930    0.0827    0.842  175.022            180273.0   \n",
       "4          0.000018    0.3680    0.720  148.992            182426.0   \n",
       "\n",
       "   time_signature Class  \n",
       "0               3     2  \n",
       "1               4     1  \n",
       "2               3    10  \n",
       "3               4     9  \n",
       "4               4    10  "
      ]
     },
     "execution_count": 7,
     "metadata": {},
     "output_type": "execute_result"
    }
   ],
   "source": [
    "testDS.head()"
   ]
  },
  {
   "cell_type": "code",
   "execution_count": 8,
   "metadata": {},
   "outputs": [],
   "source": [
    "# sns.boxenplot(data=DS,x=\"energy\",y=\"key\",hue=\"Class\")"
   ]
  },
  {
   "cell_type": "code",
   "execution_count": 9,
   "metadata": {},
   "outputs": [],
   "source": [
    "# sns.countplot(data=DS,x=\"key\",hue=\"Class\")"
   ]
  },
  {
   "cell_type": "code",
   "execution_count": 7,
   "metadata": {},
   "outputs": [
    {
     "name": "stdout",
     "output_type": "stream",
     "text": [
      "[[1.77561925e-01 2.30000000e-01 7.16000000e-01 1.37993000e+02]\n",
      " [2.36000000e-06 4.41000000e-01 1.29000000e-01 1.04953000e+02]\n",
      " [8.44000000e-01 9.31000000e-02 1.50000000e-01 1.49834000e+02]\n",
      " ...\n",
      " [1.77561925e-01 1.79000000e-01 3.12000000e-01 7.80350000e+01]\n",
      " [5.64000000e-04 3.73000000e-02 7.35000000e-01 1.01174000e+02]\n",
      " [8.25000000e-01 3.60000000e-02 5.93000000e-01 1.50307000e+02]] ['4' '8' '7' ... '5' '10' '6']\n"
     ]
    }
   ],
   "source": [
    "\n",
    "X_train = trainDS.iloc[:,-7:-3].values\n",
    "y_train = trainDS.iloc[:,-1].values\n",
    "\n",
    "print(X_train,y_train)"
   ]
  },
  {
   "cell_type": "code",
   "execution_count": 8,
   "metadata": {},
   "outputs": [
    {
     "name": "stdout",
     "output_type": "stream",
     "text": [
      "[[2.66000000e-05 1.39000000e-01 1.79000000e-01 1.76688000e+02]\n",
      " [5.72000000e-01 3.20000000e-01 6.07000000e-01 1.55957000e+02]\n",
      " [2.40000000e-04 4.17000000e-01 2.26000000e-01 1.10614000e+02]\n",
      " ...\n",
      " [1.77561925e-01 9.71000000e-02 5.65000000e-01 1.35986000e+02]\n",
      " [1.16000000e-05 1.05000000e-01 2.87000000e-01 1.55990000e+02]\n",
      " [2.55000000e-04 2.67000000e-01 2.91000000e-01 1.20044000e+02]] ['2' '1' '10' ... '9' '0' '10']\n"
     ]
    }
   ],
   "source": [
    "X_test = testDS.iloc[:,-7:-3].values\n",
    "y_test = testDS.iloc[:,-1].values\n",
    "\n",
    "print(X_test,y_test)"
   ]
  },
  {
   "cell_type": "code",
   "execution_count": 12,
   "metadata": {},
   "outputs": [],
   "source": [
    "\n",
    "# spearmaner_cof, p_value = spearmanr(x,y)\n",
    "\n",
    "# spearmaner_cof"
   ]
  },
  {
   "cell_type": "code",
   "execution_count": 13,
   "metadata": {},
   "outputs": [],
   "source": [
    "# plt.scatter(x,y)"
   ]
  },
  {
   "cell_type": "markdown",
   "metadata": {},
   "source": [
    "## preprocising"
   ]
  },
  {
   "cell_type": "markdown",
   "metadata": {},
   "source": [
    "### test"
   ]
  },
  {
   "cell_type": "code",
   "execution_count": 9,
   "metadata": {},
   "outputs": [],
   "source": [
    "from sklearn.preprocessing import LabelEncoder\n",
    "le = LabelEncoder()\n",
    "X_test[:,2] = le.fit_transform(X_test[:,2])"
   ]
  },
  {
   "cell_type": "code",
   "execution_count": 10,
   "metadata": {},
   "outputs": [],
   "source": [
    "from sklearn.compose import ColumnTransformer\n",
    "from sklearn.preprocessing import OneHotEncoder\n",
    "\n",
    "ct = ColumnTransformer(transformers=[('encoder', OneHotEncoder(), [1])], remainder='passthrough')\n",
    "X_test = np.array(ct.fit_transform(X_test))"
   ]
  },
  {
   "cell_type": "markdown",
   "metadata": {},
   "source": [
    "### Train"
   ]
  },
  {
   "cell_type": "code",
   "execution_count": 11,
   "metadata": {},
   "outputs": [],
   "source": [
    "from sklearn.preprocessing import LabelEncoder\n",
    "le = LabelEncoder()\n",
    "X_train[:,2] = le.fit_transform(X_train[:,2])"
   ]
  },
  {
   "cell_type": "code",
   "execution_count": 12,
   "metadata": {},
   "outputs": [],
   "source": [
    "from sklearn.compose import ColumnTransformer\n",
    "from sklearn.preprocessing import OneHotEncoder\n",
    "\n",
    "ct = ColumnTransformer(transformers=[('encoder', OneHotEncoder(), [1])], remainder='passthrough')\n",
    "X_train = np.array(ct.fit_transform(X_train))"
   ]
  },
  {
   "cell_type": "code",
   "execution_count": 18,
   "metadata": {},
   "outputs": [],
   "source": [
    "# x = testDS.Class\n",
    "# # x.reshape(-1, 1)\n",
    "\n",
    "# y = testDS.tempo\n",
    "# # y.reshape(-1, 1)"
   ]
  },
  {
   "cell_type": "code",
   "execution_count": 19,
   "metadata": {},
   "outputs": [],
   "source": [
    "# type(x)"
   ]
  },
  {
   "cell_type": "code",
   "execution_count": 20,
   "metadata": {},
   "outputs": [],
   "source": [
    "# log_reg.fit(x,y)"
   ]
  },
  {
   "cell_type": "code",
   "execution_count": 21,
   "metadata": {},
   "outputs": [],
   "source": [
    "# from sklearn.model_selection import train_test_split\n",
    "# X_train, X_test, y_train, y_test = train_test_split(X, y, test_size = 0.1, random_state = 123)\n"
   ]
  },
  {
   "cell_type": "code",
   "execution_count": 13,
   "metadata": {},
   "outputs": [],
   "source": [
    "from sklearn.preprocessing import StandardScaler\n",
    "sc = StandardScaler()\n",
    "X_train = sc.fit_transform(X_train)\n",
    "X_test = sc.transform(X_test)\n"
   ]
  },
  {
   "cell_type": "code",
   "execution_count": null,
   "metadata": {},
   "outputs": [],
   "source": [
    "from sklearn.linear_model import LogisticRegression\n",
    "\n",
    "\n",
    "\n",
    "logistic_regression = LogisticRegression()\n",
    "logistic_regression.fit(X_train,y_train)\n",
    "\n"
   ]
  },
  {
   "cell_type": "code",
   "execution_count": null,
   "metadata": {},
   "outputs": [],
   "source": [
    "predictions = logistic_regression.predict(X_test)"
   ]
  },
  {
   "cell_type": "code",
   "execution_count": null,
   "metadata": {},
   "outputs": [],
   "source": [
    "from sklearn.metrics import classification_report\n",
    "print(classification_report(y_test,predictions))"
   ]
  },
  {
   "cell_type": "code",
   "execution_count": null,
   "metadata": {},
   "outputs": [],
   "source": [
    "\n",
    "\n",
    "from sklearn.metrics import confusion_matrix, accuracy_score\n",
    "y_pred = logistic_regression.predict(X_test)\n",
    "cm = confusion_matrix(y_test, y_pred)\n",
    "print(cm)\n",
    "accuracy_score(y_test, y_pred)\n",
    "\n"
   ]
  }
 ],
 "metadata": {
  "interpreter": {
   "hash": "d4d1e4263499bec80672ea0156c357c1ee493ec2b1c70f0acce89fc37c4a6abe"
  },
  "kernelspec": {
   "display_name": "Python 3.9.7 ('base')",
   "language": "python",
   "name": "python3"
  },
  "language_info": {
   "codemirror_mode": {
    "name": "ipython",
    "version": 3
   },
   "file_extension": ".py",
   "mimetype": "text/x-python",
   "name": "python",
   "nbconvert_exporter": "python",
   "pygments_lexer": "ipython3",
   "version": "3.9.7"
  },
  "orig_nbformat": 4
 },
 "nbformat": 4,
 "nbformat_minor": 2
}

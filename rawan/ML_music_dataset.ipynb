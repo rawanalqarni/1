{
 "cells": [
  {
   "cell_type": "code",
   "execution_count": null,
   "metadata": {},
   "outputs": [],
   "source": [
    "import pandas as pd\n",
    "import numpy as np \n",
    "import math\n",
    "from plotnine import *\n",
    "from matplotlib import pyplot as plt\n",
    "from sklearn.model_selection import train_test_split, KFold, RepeatedKFold, cross_val_score\n",
    "from sklearn.model_selection import GridSearchCV\n",
    "from sklearn.neighbors import KNeighborsRegressor, KNeighborsClassifier\n",
    "from sklearn.metrics import mean_squared_error, roc_auc_score \n",
    "from sklearn.impute import KNNImputer\n",
    "from plotnine import *\n",
    "from matplotlib import pyplot as plt\n",
    "\n",
    "# Modeling packages\n",
    "from sklearn.tree import DecisionTreeClassifier\n",
    "from sklearn.tree import plot_tree\n",
    "from sklearn.model_selection import train_test_split\n",
    "from sklearn.preprocessing import OneHotEncoder\n",
    "from sklearn.compose import ColumnTransformer\n",
    "from sklearn.compose import make_column_selector as selector\n",
    "from sklearn.model_selection import KFold\n",
    "from sklearn.model_selection import cross_val_score\n",
    "from sklearn.model_selection import GridSearchCV\n",
    "from sklearn.inspection import partial_dependence\n",
    "\n",
    "from sklearn.linear_model import LogisticRegression\n",
    "from sklearn.linear_model import LogisticRegressionCV\n",
    "from sklearn.neighbors import KNeighborsClassifier\n",
    "from sklearn.ensemble import RandomForestClassifier\n",
    "from sklearn import metrics\n",
    "from sklearn.metrics import confusion_matrix, ConfusionMatrixDisplay\n",
    "from sklearn.preprocessing import StandardScaler, LabelEncoder\n"
   ]
  },
  {
   "cell_type": "markdown",
   "metadata": {},
   "source": [
    "#### Splitting the dataset into train and test set"
   ]
  },
  {
   "cell_type": "code",
   "execution_count": null,
   "metadata": {},
   "outputs": [],
   "source": [
    "music_dataframe = pd.read_csv(\"/workspaces/Music_Dataset/data/music_dataset_cleaned.csv\")"
   ]
  },
  {
   "cell_type": "markdown",
   "metadata": {},
   "source": [
    "- Changing the Class datatype to object "
   ]
  },
  {
   "cell_type": "code",
   "execution_count": null,
   "metadata": {},
   "outputs": [],
   "source": [
    "music_dataframe.Class = music_dataframe.Class.astype(str)"
   ]
  },
  {
   "cell_type": "code",
   "execution_count": null,
   "metadata": {},
   "outputs": [],
   "source": [
    "# Delete some unwanted columns \n",
    "del music_dataframe['Track Name']\n",
    "del music_dataframe['Unnamed: 0']\n",
    "\n",
    "# Save the the columns name in col_list variable \n",
    "col_list = list(music_dataframe.columns) "
   ]
  },
  {
   "cell_type": "markdown",
   "metadata": {},
   "source": [
    "- Label Encoding for Artist Name "
   ]
  },
  {
   "cell_type": "code",
   "execution_count": 20,
   "metadata": {},
   "outputs": [
    {
     "data": {
      "text/html": [
       "<div>\n",
       "<style scoped>\n",
       "    .dataframe tbody tr th:only-of-type {\n",
       "        vertical-align: middle;\n",
       "    }\n",
       "\n",
       "    .dataframe tbody tr th {\n",
       "        vertical-align: top;\n",
       "    }\n",
       "\n",
       "    .dataframe thead th {\n",
       "        text-align: right;\n",
       "    }\n",
       "</style>\n",
       "<table border=\"1\" class=\"dataframe\">\n",
       "  <thead>\n",
       "    <tr style=\"text-align: right;\">\n",
       "      <th></th>\n",
       "      <th>Artist Name</th>\n",
       "      <th>Popularity</th>\n",
       "      <th>danceability</th>\n",
       "      <th>energy</th>\n",
       "      <th>key</th>\n",
       "      <th>loudness</th>\n",
       "      <th>mode</th>\n",
       "      <th>speechiness</th>\n",
       "      <th>acousticness</th>\n",
       "      <th>instrumentalness</th>\n",
       "      <th>liveness</th>\n",
       "      <th>valence</th>\n",
       "      <th>tempo</th>\n",
       "      <th>duration_in min/ms</th>\n",
       "      <th>time_signature</th>\n",
       "      <th>Class</th>\n",
       "    </tr>\n",
       "  </thead>\n",
       "  <tbody>\n",
       "    <tr>\n",
       "      <th>0</th>\n",
       "      <td>1182</td>\n",
       "      <td>60.0</td>\n",
       "      <td>0.854</td>\n",
       "      <td>0.564</td>\n",
       "      <td>1.0</td>\n",
       "      <td>-4.964</td>\n",
       "      <td>1</td>\n",
       "      <td>0.0485</td>\n",
       "      <td>0.017100</td>\n",
       "      <td>0.177562</td>\n",
       "      <td>0.0849</td>\n",
       "      <td>0.8990</td>\n",
       "      <td>134.071</td>\n",
       "      <td>234596.0</td>\n",
       "      <td>4</td>\n",
       "      <td>5</td>\n",
       "    </tr>\n",
       "    <tr>\n",
       "      <th>1</th>\n",
       "      <td>1092</td>\n",
       "      <td>54.0</td>\n",
       "      <td>0.382</td>\n",
       "      <td>0.814</td>\n",
       "      <td>3.0</td>\n",
       "      <td>-7.230</td>\n",
       "      <td>1</td>\n",
       "      <td>0.0406</td>\n",
       "      <td>0.001100</td>\n",
       "      <td>0.004010</td>\n",
       "      <td>0.1010</td>\n",
       "      <td>0.5690</td>\n",
       "      <td>116.454</td>\n",
       "      <td>251733.0</td>\n",
       "      <td>4</td>\n",
       "      <td>10</td>\n",
       "    </tr>\n",
       "    <tr>\n",
       "      <th>2</th>\n",
       "      <td>7899</td>\n",
       "      <td>35.0</td>\n",
       "      <td>0.434</td>\n",
       "      <td>0.614</td>\n",
       "      <td>6.0</td>\n",
       "      <td>-8.334</td>\n",
       "      <td>1</td>\n",
       "      <td>0.0525</td>\n",
       "      <td>0.486000</td>\n",
       "      <td>0.000196</td>\n",
       "      <td>0.3940</td>\n",
       "      <td>0.7870</td>\n",
       "      <td>147.681</td>\n",
       "      <td>109667.0</td>\n",
       "      <td>4</td>\n",
       "      <td>6</td>\n",
       "    </tr>\n",
       "    <tr>\n",
       "      <th>3</th>\n",
       "      <td>1987</td>\n",
       "      <td>66.0</td>\n",
       "      <td>0.853</td>\n",
       "      <td>0.597</td>\n",
       "      <td>10.0</td>\n",
       "      <td>-6.528</td>\n",
       "      <td>0</td>\n",
       "      <td>0.0555</td>\n",
       "      <td>0.021200</td>\n",
       "      <td>0.177562</td>\n",
       "      <td>0.1220</td>\n",
       "      <td>0.5690</td>\n",
       "      <td>107.033</td>\n",
       "      <td>173968.0</td>\n",
       "      <td>4</td>\n",
       "      <td>5</td>\n",
       "    </tr>\n",
       "    <tr>\n",
       "      <th>4</th>\n",
       "      <td>6283</td>\n",
       "      <td>53.0</td>\n",
       "      <td>0.167</td>\n",
       "      <td>0.975</td>\n",
       "      <td>2.0</td>\n",
       "      <td>-4.279</td>\n",
       "      <td>1</td>\n",
       "      <td>0.2160</td>\n",
       "      <td>0.000169</td>\n",
       "      <td>0.016100</td>\n",
       "      <td>0.1720</td>\n",
       "      <td>0.0918</td>\n",
       "      <td>199.060</td>\n",
       "      <td>229960.0</td>\n",
       "      <td>4</td>\n",
       "      <td>10</td>\n",
       "    </tr>\n",
       "  </tbody>\n",
       "</table>\n",
       "</div>"
      ],
      "text/plain": [
       "   Artist Name  Popularity  danceability  energy   key  loudness  mode  \\\n",
       "0         1182        60.0         0.854   0.564   1.0    -4.964     1   \n",
       "1         1092        54.0         0.382   0.814   3.0    -7.230     1   \n",
       "2         7899        35.0         0.434   0.614   6.0    -8.334     1   \n",
       "3         1987        66.0         0.853   0.597  10.0    -6.528     0   \n",
       "4         6283        53.0         0.167   0.975   2.0    -4.279     1   \n",
       "\n",
       "   speechiness  acousticness  instrumentalness  liveness  valence    tempo  \\\n",
       "0       0.0485      0.017100          0.177562    0.0849   0.8990  134.071   \n",
       "1       0.0406      0.001100          0.004010    0.1010   0.5690  116.454   \n",
       "2       0.0525      0.486000          0.000196    0.3940   0.7870  147.681   \n",
       "3       0.0555      0.021200          0.177562    0.1220   0.5690  107.033   \n",
       "4       0.2160      0.000169          0.016100    0.1720   0.0918  199.060   \n",
       "\n",
       "   duration_in min/ms  time_signature Class  \n",
       "0            234596.0               4     5  \n",
       "1            251733.0               4    10  \n",
       "2            109667.0               4     6  \n",
       "3            173968.0               4     5  \n",
       "4            229960.0               4    10  "
      ]
     },
     "execution_count": 20,
     "metadata": {},
     "output_type": "execute_result"
    }
   ],
   "source": [
    "le = LabelEncoder()\n",
    "le.fit(music_dataframe['Artist Name'])\n",
    "music_dataframe['Artist Name']=le.transform(music_dataframe['Artist Name'])\n",
    "music_dataframe.head()"
   ]
  },
  {
   "cell_type": "markdown",
   "metadata": {},
   "source": [
    "- Splitting "
   ]
  },
  {
   "cell_type": "code",
   "execution_count": null,
   "metadata": {},
   "outputs": [],
   "source": [
    "class_col = music_dataframe.Class\n",
    "train, test = train_test_split(music_dataframe, train_size=0.7, random_state=123, stratify=class_col)\n",
    "print(train.shape)\n",
    "print(test.shape)"
   ]
  },
  {
   "cell_type": "code",
   "execution_count": null,
   "metadata": {},
   "outputs": [],
   "source": [
    "X_train = train.drop(\"Class\", axis=1)\n",
    "y_train = train[[\"Class\"]]\n",
    "print(X_train.shape)\n",
    "print(y_train.shape)"
   ]
  },
  {
   "cell_type": "code",
   "execution_count": null,
   "metadata": {},
   "outputs": [],
   "source": [
    "X_test = test.drop(\"Class\", axis=1)\n",
    "y_test = test[[\"Class\"]]\n",
    "print(X_test.shape)\n",
    "print(y_test.shape)"
   ]
  },
  {
   "cell_type": "markdown",
   "metadata": {},
   "source": [
    "- Scaling "
   ]
  },
  {
   "cell_type": "code",
   "execution_count": null,
   "metadata": {},
   "outputs": [],
   "source": [
    "scaler = StandardScaler()\n",
    "X_train = pd.DataFrame(scaler.fit_transform(X_train),  columns= col_list[0:15])\n",
    "X_test = pd.DataFrame(scaler.fit_transform(X_test),  columns= col_list[0:15])"
   ]
  },
  {
   "cell_type": "markdown",
   "metadata": {},
   "source": [
    "### Cross Validation on all models "
   ]
  },
  {
   "cell_type": "code",
   "execution_count": null,
   "metadata": {},
   "outputs": [],
   "source": [
    "# Cross validation on decision Tree model\n",
    "dt_mod = DecisionTreeClassifier()\n",
    "loss = 'accuracy'\n",
    "kfold = KFold(n_splits=5, random_state=123, shuffle=True)\n",
    "results = cross_val_score(dt_mod, X_train, \n",
    "                          y_train, cv=kfold, scoring=loss)\n",
    "results.mean()"
   ]
  },
  {
   "cell_type": "code",
   "execution_count": null,
   "metadata": {},
   "outputs": [],
   "source": [
    "#Cross Validation on LogisticRegression model \n",
    "lr_mod = LogisticRegression()\n",
    "loss = 'accuracy'\n",
    "kfold = KFold(n_splits=5, random_state=123, shuffle=True)\n",
    "results = cross_val_score(lr_mod, X_train, \n",
    "                          y_train, cv=kfold, scoring=loss)\n",
    "results.mean()"
   ]
  },
  {
   "cell_type": "code",
   "execution_count": null,
   "metadata": {},
   "outputs": [],
   "source": [
    "#Cross Validation on Random Forest model \n",
    "rf_mod = RandomForestClassifier()\n",
    "loss = 'accuracy'\n",
    "kfold = KFold(n_splits=5, random_state=123, shuffle=True)\n",
    "results1 = cross_val_score(rf_mod, X_train, \n",
    "                          y_train, cv=kfold, scoring=loss)\n",
    "results1.mean()"
   ]
  },
  {
   "cell_type": "code",
   "execution_count": null,
   "metadata": {},
   "outputs": [],
   "source": [
    "#Cross Validation on KNN model \n",
    "knn_mod = KNeighborsClassifier()\n",
    "loss = 'accuracy'\n",
    "kfold = KFold(n_splits=5, random_state=123, shuffle=True)\n",
    "results = cross_val_score(knn_mod, X_train, \n",
    "                          y_train, cv=kfold, scoring=loss)\n",
    "results.mean()"
   ]
  },
  {
   "cell_type": "markdown",
   "metadata": {},
   "source": [
    "### Results "
   ]
  },
  {
   "cell_type": "markdown",
   "metadata": {},
   "source": [
    "<table>\n",
    "<tr>\n",
    "<th> Model </th>\n",
    "<th> Accuracy</th>\n",
    "</tr>\n",
    "\n",
    "<tr>\n",
    "<td>Decision Tree </td>\n",
    "<td>37%</td>\n",
    "</tr>\n",
    "\n",
    "<tr>\n",
    "<td>Randon Forest</td>\n",
    "<td>51%</td>\n",
    "</tr>\n",
    "\n",
    "<tr>\n",
    "<td>KNN </td>\n",
    "<td>42%</td>\n",
    "</tr>\n",
    "\n",
    "<tr>\n",
    "<td>Logustic Regression</td>\n",
    "<td>49%</td>\n",
    "</tr>\n",
    "\n",
    "</table>"
   ]
  },
  {
   "cell_type": "markdown",
   "metadata": {},
   "source": [
    "### hyperparameter tuning best node "
   ]
  },
  {
   "cell_type": "markdown",
   "metadata": {},
   "source": [
    "-  Fining best Max_Leafnode"
   ]
  },
  {
   "cell_type": "code",
   "execution_count": 14,
   "metadata": {},
   "outputs": [
    {
     "data": {
      "text/plain": [
       "DecisionTreeClassifier(max_leaf_nodes=64)"
      ]
     },
     "execution_count": 14,
     "metadata": {},
     "output_type": "execute_result"
    }
   ],
   "source": [
    "dt_mod = DecisionTreeClassifier()\n",
    "\n",
    "loss = 'neg_root_mean_squared_error'\n",
    "\n",
    "kfold = KFold(n_splits=5, random_state=123, shuffle=True)\n",
    "\n",
    "hyper_grid = {\n",
    "  'max_leaf_nodes': list(range(2,80)), \n",
    "  'min_samples_split':[2,3,4,5], \n",
    "  }\n",
    "\n",
    "\n",
    "grid_search = GridSearchCV(dt_mod, hyper_grid,cv=kfold, scoring=loss)\n",
    "results = grid_search.fit(X_train,y_train)\n",
    "grid_search.best_estimator_"
   ]
  },
  {
   "cell_type": "code",
   "execution_count": 15,
   "metadata": {},
   "outputs": [
    {
     "data": {
      "text/plain": [
       "DecisionTreeClassifier(max_depth=9)"
      ]
     },
     "execution_count": 15,
     "metadata": {},
     "output_type": "execute_result"
    }
   ],
   "source": [
    "\n",
    "dt_mod = DecisionTreeClassifier()\n",
    "\n",
    "loss = 'neg_root_mean_squared_error'\n",
    "\n",
    "kfold = KFold(n_splits=5, random_state=123, shuffle=True)\n",
    "\n",
    "hyper_grid = {\n",
    "  'min_samples_split':[2,3,4,5], \n",
    "   'max_depth': list(range(1,50))\n",
    "  }\n",
    "\n",
    "\n",
    "grid_search = GridSearchCV(dt_mod, hyper_grid,cv=kfold, scoring=loss)\n",
    "results = grid_search.fit(X_train,y_train)\n",
    "grid_search.best_estimator_"
   ]
  },
  {
   "cell_type": "markdown",
   "metadata": {},
   "source": [
    "### Training the Model"
   ]
  },
  {
   "cell_type": "markdown",
   "metadata": {},
   "source": [
    "1. Using All Features "
   ]
  },
  {
   "cell_type": "code",
   "execution_count": 18,
   "metadata": {},
   "outputs": [
    {
     "name": "stdout",
     "output_type": "stream",
     "text": [
      "Accuracy: 46.119651787368035\n"
     ]
    },
    {
     "data": {
      "text/plain": [
       "<sklearn.metrics._plot.confusion_matrix.ConfusionMatrixDisplay at 0x7fca253e5cd0>"
      ]
     },
     "execution_count": 18,
     "metadata": {},
     "output_type": "execute_result"
    },
    {
     "data": {
      "image/png": "[encoded data removed]",
      "text/plain": [
       "<Figure size 432x288 with 2 Axes>"
      ]
     },
     "metadata": {
      "needs_background": "light"
     },
     "output_type": "display_data"
    }
   ],
   "source": [
    "# all numric features \n",
    "dt_mod = DecisionTreeClassifier(criterion='gini',max_depth=9, max_leaf_nodes=64, random_state=123)\n",
    "dt_fit = dt_mod.fit(X_train, y_train)\n",
    "y_pred = dt_fit.predict(X_test)\n",
    "print(\"Accuracy:\",metrics.accuracy_score(y_test, y_pred)*100) \n",
    "conf_matrix = confusion_matrix(y_test, y_pred)\n",
    "con_vis = ConfusionMatrixDisplay(confusion_matrix=conf_matrix)\n",
    "con_vis.plot()\n"
   ]
  },
  {
   "cell_type": "markdown",
   "metadata": {},
   "source": [
    "2. Using the selected features "
   ]
  },
  {
   "cell_type": "markdown",
   "metadata": {},
   "source": [
    "Using Features Selection >> Features Importance Plot "
   ]
  },
  {
   "cell_type": "code",
   "execution_count": 19,
   "metadata": {},
   "outputs": [
    {
     "data": {
      "image/png": "[encoded data removed]",
      "text/plain": [
       "<Figure size 640x480 with 1 Axes>"
      ]
     },
     "metadata": {},
     "output_type": "display_data"
    },
    {
     "data": {
      "text/plain": [
       "<ggplot: (8781636017924)>"
      ]
     },
     "execution_count": 19,
     "metadata": {},
     "output_type": "execute_result"
    }
   ],
   "source": [
    "dt_mod1 = results.best_estimator_\n",
    "df_mod1_fit = dt_mod1.fit(X_train, y_train)\n",
    "vi = pd.DataFrame({'feature': X_train.columns,\n",
    "                   'importance': df_mod1_fit.feature_importances_})\n",
    "top_20_features = vi.nlargest(20, 'importance')\n",
    "(ggplot(top_20_features, aes(x='importance', y='reorder(feature, importance)'))\n",
    " + geom_point()\n",
    " + labs(y=None))\n"
   ]
  },
  {
   "cell_type": "code",
   "execution_count": 21,
   "metadata": {},
   "outputs": [
    {
     "name": "stdout",
     "output_type": "stream",
     "text": [
      "Accuracy: 42.89683274680496\n"
     ]
    },
    {
     "data": {
      "text/plain": [
       "<sklearn.metrics._plot.confusion_matrix.ConfusionMatrixDisplay at 0x7fca25367a90>"
      ]
     },
     "execution_count": 21,
     "metadata": {},
     "output_type": "execute_result"
    },
    {
     "data": {
      "image/png": "[encoded data removed]",
      "text/plain": [
       "<Figure size 432x288 with 2 Axes>"
      ]
     },
     "metadata": {
      "needs_background": "light"
     },
     "output_type": "display_data"
    }
   ],
   "source": [
    "# using the highest importance features \n",
    "dt_mod = DecisionTreeClassifier(criterion='gini',max_depth=9, max_leaf_nodes=63, random_state=123)\n",
    "dt_fit = dt_mod.fit(X_train[['duration_in min/ms','acousticness','instrumentalness','speechiness','Popularity']], y_train)\n",
    "y_pred = dt_fit.predict(X_test[['duration_in min/ms','acousticness','instrumentalness','speechiness','Popularity']])\n",
    "print(\"Accuracy:\",metrics.accuracy_score(y_test, y_pred)*100)\n",
    "\n",
    "conf_matrix = confusion_matrix(y_test, y_pred)\n",
    "con_vis = ConfusionMatrixDisplay(confusion_matrix=conf_matrix)\n",
    "con_vis.plot()\n"
   ]
  },
  {
   "cell_type": "markdown",
   "metadata": {},
   "source": [
    "### Conclusion "
   ]
  },
  {
   "cell_type": "markdown",
   "metadata": {},
   "source": [
    "<table>\n",
    "<tr>\n",
    "<th> Model </th>\n",
    "<th> Accuracy</th>\n",
    "</tr>\n",
    "\n",
    "<tr>\n",
    "<td>Decision Tree </td>\n",
    "<td>37%</td>\n",
    "</tr>\n",
    "\n",
    "<tr>\n",
    "<td>Randon Forest</td>\n",
    "<td>51%</td>\n",
    "</tr>\n",
    "\n",
    "<tr>\n",
    "<td>KNN </td>\n",
    "<td>42%</td>\n",
    "</tr>\n",
    "\n",
    "<tr>\n",
    "<td>Logustic Regression</td>\n",
    "<td>49%</td>\n",
    "</tr>\n",
    "\n",
    "</table>"
   ]
  }
 ],
 "metadata": {
  "interpreter": {
   "hash": "d4d1e4263499bec80672ea0156c357c1ee493ec2b1c70f0acce89fc37c4a6abe"
  },
  "kernelspec": {
   "display_name": "Python 3.9.7 ('base')",
   "language": "python",
   "name": "python3"
  },
  "language_info": {
   "codemirror_mode": {
    "name": "ipython",
    "version": 3
   },
   "file_extension": ".py",
   "mimetype": "text/x-python",
   "name": "python",
   "nbconvert_exporter": "python",
   "pygments_lexer": "ipython3",
   "version": "3.9.7"
  },
  "orig_nbformat": 4
 },
 "nbformat": 4,
 "nbformat_minor": 2
}
